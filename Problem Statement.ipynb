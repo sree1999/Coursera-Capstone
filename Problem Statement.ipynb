{
 "cells": [
  {
   "cell_type": "markdown",
   "metadata": {},
   "source": [
    "# The Battle of Neighborhoods\n",
    "\n",
    "## Restaurant Recommender System in Bangalore, India\n",
    "\n",
    "### Problem background :\n",
    "Bangalore is the capital and largest city of the Indian state of Karnataka. With a population of over 15 million (as of January 2016), Bangalore is the third largest city in India and 27th largest city in the world. Bangalore is one of the most ethnically diverse cities in the country, with over 51% of the city's population being migrants from other parts of India. \n",
    "\n",
    "The diversity of the cuisine available is reflective of the social and economic diversity of Bangalore. Roadside vendors, tea stalls, South Indian, North Indian, Arabic food, Chinese and Western fast food are all very popular in the city. Udupi restaurants, are very popular and serve predominantly vegetarian cuisine. The Chinese food and the Thai food served in most of the restaurants are can be customised to cater to the tastes of the Indian population. Bangalore can also be called a foodie's paradise because of its vast variety of foods and edibles with a touch of Bangalore's uniqueness and tradition.\n",
    "\n",
    "### Problem description :\n",
    "Culinary has become part of people’s lives today. Culinary is a part of life that is closely related to daily food consumption. Recently, culinary is not just about food needs, but also about a community lifestyle. People are increasingly like eating in restaurant, so the number of restaurants that are growing even more, especially in the area of Bangalore. With a growing number of restaurants, many websites or applications provide information about restaurants in Bangalore. Some information from websites or applications about restaurants in Bangalore still use filtering methods based on places or types of cuisine. However, it is still possible to display choices that are relevant to the filtering results from the user, but not according with user tastes.\n",
    "\n",
    "The majority of people or consumers will choose restaurants with high ratings and positive reviews from other people to make choices. Therefore, ratings and reviews are very influential with consumers who have the same tastes, so consumers get the same recommendations with other consumers with the same taste.\n",
    "\n",
    "So the questions that must be addresed here, include :\n",
    "\n",
    "1. What are the varieties of food available in the restaurant ?\n",
    "2. Which is the restaurant most nearest by with a good rating ?\n",
    "3. Which restaurants are comparitively cheaper and also providing quality food?\n",
    "\n",
    "The recommender system is expected to answer these questions, and it must uncover all the perspective of managing recommendations. It is sighted to show :\n",
    "\n",
    "1. What are the diverse cuisine present in a particular area ?\n",
    "2. Where are the similar restaurant present based on a preference to particular food ?\n",
    "3. How do different restaurants rank with respect to my preferences ?\n",
    "\n",
    "### Target audience :\n",
    "Target audiences for this project is basically anyone in the city of Bangalore. People who have the habit of going to a particular type of cuisine will be suggested more restaurants of the similar taste. People who rarely use restaurants would prefer to have the highest rated restaurants nearby them and those could be easily suggested by our recommender system. "
   ]
  },
  {
   "cell_type": "code",
   "execution_count": null,
   "metadata": {},
   "outputs": [],
   "source": []
  }
 ],
 "metadata": {
  "kernelspec": {
   "display_name": "Python 3",
   "language": "python",
   "name": "python3"
  },
  "language_info": {
   "codemirror_mode": {
    "name": "ipython",
    "version": 3
   },
   "file_extension": ".py",
   "mimetype": "text/x-python",
   "name": "python",
   "nbconvert_exporter": "python",
   "pygments_lexer": "ipython3",
   "version": "3.7.6"
  }
 },
 "nbformat": 4,
 "nbformat_minor": 4
}
