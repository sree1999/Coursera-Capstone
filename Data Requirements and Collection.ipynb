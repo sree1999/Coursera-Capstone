{
 "cells": [
  {
   "cell_type": "markdown",
   "metadata": {},
   "source": [
    "# The Battle of Neighborhoods\n",
    "\n",
    "## Restaurant Recommender System in Bangalore, India\n",
    "\n",
    "### Data requirements :\n",
    "\n",
    "To find a solution to the questions and build a recommender model, we need data.\n",
    "\n",
    "In the restaurant recommender system, we would like to know :\n",
    "\n",
    "1. Geoographical coordinates (latitide and longitude) to find exactly where it is located.\n",
    "2. Population in the neighborhood where the restaurant is located to know if it is usually crowded or not.\n",
    "3. Average income of neighborhood to know how much would be the price range of food in the restaurant.\n",
    "\n",
    "Lets take a closer look at each of these :\n",
    "\n",
    "To access location of a restaurant, its Latitude and Longitude is to be known so that we can point at its coordinates and create a map displaying all the restaurants with its labels respectively.\n",
    "\n",
    "Population of a neighborhood is very important factor in determining a restaurant's growth and amount of customers who turn up to eat. Logically, the more the population of a neighborhood, the more people will be interested to walk openly into a restaurant. More customers ensures more rating count and this helps in getting a better idea about the restaurant.\n",
    "\n",
    "Income of a neighborhood is also an important factor. Spending of money on food and other needs is usually in proportion to the income."
   ]
  },
  {
   "cell_type": "markdown",
   "metadata": {},
   "source": [
    "### Data collection :\n",
    "\n",
    "Google maps API was used to fetch the geographical coordinates (latitude and longitude). Initially, the neighbors were scrapped using beautifulSoup4. The table headings and data became the boroughs and the neighborhoods respectively. Bangalore has 8 boroghs and 64 neighborhoods. So each neighborhood was manually googled to find its corresponding latitude and longitude."
   ]
  },
  {
   "cell_type": "markdown",
   "metadata": {},
   "source": [
    "Population by neighborhood was available in [this link](https://indikosh.com/dist/655489/bangalore). Income by neighborhood was available in [this link](https://en.wikipedia.org/wiki/List_of_Indian_cities_by_GDP_per_capita). For some of the neighbourhoods, population and income data were not available and their values are assumed. Hence, this project is just for demonstrating purposes.\n",
    "\n",
    "The result is the following dataframe.\n",
    "\n",
    "<img src=\"images/Data.png\">\n",
    "\n",
    "FourSquare API is focused to fetch nearest venue locations so that we can use them to form a cluster. FourSquare API leverages the power of finding nearest venues in a radius (in this project : 500mts) and also the corresponding coordinates,venue location and their names. "
   ]
  },
  {
   "cell_type": "markdown",
   "metadata": {},
   "source": [
    "The following map is produced by marking all the niehgborhoods in bangalore city.\n",
    "<img src=\"images/map_1.JPG\">"
   ]
  },
  {
   "cell_type": "code",
   "execution_count": null,
   "metadata": {},
   "outputs": [],
   "source": []
  }
 ],
 "metadata": {
  "kernelspec": {
   "display_name": "Python 3",
   "language": "python",
   "name": "python3"
  },
  "language_info": {
   "codemirror_mode": {
    "name": "ipython",
    "version": 3
   },
   "file_extension": ".py",
   "mimetype": "text/x-python",
   "name": "python",
   "nbconvert_exporter": "python",
   "pygments_lexer": "ipython3",
   "version": "3.7.6"
  }
 },
 "nbformat": 4,
 "nbformat_minor": 4
}
